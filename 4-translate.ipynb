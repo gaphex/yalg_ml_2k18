{
 "cells": [
  {
   "cell_type": "code",
   "execution_count": 11,
   "metadata": {},
   "outputs": [],
   "source": [
    "import pickle\n",
    "import nltk\n",
    "import pandas as pd\n",
    "import csv\n",
    "\n",
    "from tqdm import tqdm\n",
    "from googletrans import Translator\n",
    "\n",
    "translator = Translator()"
   ]
  },
  {
   "cell_type": "markdown",
   "metadata": {},
   "source": [
    "This notebook contains the procedures necessary to translate the datasets into other languages. The translation results are already included in the repository"
   ]
  },
  {
   "cell_type": "code",
   "execution_count": 2,
   "metadata": {},
   "outputs": [],
   "source": [
    "def read_data():\n",
    "    columns = ['context_id','context_2','context_1','context_0','reply_id','reply','label','confidence']\n",
    "\n",
    "    test_df = pd.read_csv(\"./data/final.tsv\", sep=\"\\t\", header=None, quoting=csv.QUOTE_NONE)\n",
    "    train_df = pd.read_csv(\"./data/train.tsv\", sep=\"\\t\", header=None, quoting=csv.QUOTE_NONE)\n",
    "\n",
    "    train_df = train_df.fillna(\"\")\n",
    "    test_df = test_df.fillna(\"\")\n",
    "\n",
    "    test_df.columns = columns[:-2]\n",
    "    train_df.columns = columns\n",
    "    \n",
    "    return train_df, test_df"
   ]
  },
  {
   "cell_type": "code",
   "execution_count": 3,
   "metadata": {},
   "outputs": [],
   "source": [
    "train_df, test_df = read_data()"
   ]
  },
  {
   "cell_type": "code",
   "execution_count": 5,
   "metadata": {},
   "outputs": [
    {
     "name": "stdout",
     "output_type": "stream",
     "text": [
      "184721\n"
     ]
    }
   ],
   "source": [
    "R = {}\n",
    "\n",
    "alltexts = set()\n",
    "\n",
    "for df in [train_df, test_df]:\n",
    "    for cl in ['context_2','context_1','context_0','reply']:\n",
    "        alltexts.update(df[cl].tolist())\n",
    "        \n",
    "alltexts = list(alltexts)\n",
    "print(len(alltexts))"
   ]
  },
  {
   "cell_type": "code",
   "execution_count": null,
   "metadata": {
    "scrolled": false
   },
   "outputs": [],
   "source": []
  },
  {
   "cell_type": "code",
   "execution_count": null,
   "metadata": {},
   "outputs": [],
   "source": []
  },
  {
   "cell_type": "code",
   "execution_count": 6,
   "metadata": {},
   "outputs": [],
   "source": [
    "def batch(iterable, n=1):\n",
    "    l = len(iterable)\n",
    "    for ndx in range(0, l, n):\n",
    "        yield iterable[ndx:min(ndx + n, l)]"
   ]
  },
  {
   "cell_type": "code",
   "execution_count": null,
   "metadata": {},
   "outputs": [],
   "source": [
    "for b in tqdm(batch(alltexts, 8), total=int(len(alltexts)/8)):\n",
    "    \n",
    "    b = [s for s in b if s not in R]\n",
    "    if len(b):\n",
    "        translations = translator.translate(b, dest='en')\n",
    "        for t, s in zip(translations, b):\n",
    "            R[s] = \" \".join(nltk.word_tokenize(t.text)).lower()"
   ]
  },
  {
   "cell_type": "code",
   "execution_count": 62,
   "metadata": {},
   "outputs": [],
   "source": [
    "pickle.dump(R, open(\"./assets/translations/english_preprocessed.pkl\",\"wb\"))"
   ]
  },
  {
   "cell_type": "code",
   "execution_count": null,
   "metadata": {},
   "outputs": [],
   "source": []
  },
  {
   "cell_type": "code",
   "execution_count": null,
   "metadata": {},
   "outputs": [],
   "source": []
  },
  {
   "cell_type": "code",
   "execution_count": null,
   "metadata": {},
   "outputs": [],
   "source": []
  }
 ],
 "metadata": {
  "kernelspec": {
   "display_name": "Python 3",
   "language": "python",
   "name": "python3"
  },
  "language_info": {
   "codemirror_mode": {
    "name": "ipython",
    "version": 3
   },
   "file_extension": ".py",
   "mimetype": "text/x-python",
   "name": "python",
   "nbconvert_exporter": "python",
   "pygments_lexer": "ipython3",
   "version": "3.6.3"
  }
 },
 "nbformat": 4,
 "nbformat_minor": 2
}

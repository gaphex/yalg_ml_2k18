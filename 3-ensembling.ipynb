{
 "cells": [
  {
   "cell_type": "code",
   "execution_count": 1,
   "metadata": {},
   "outputs": [],
   "source": [
    "from sklearn.datasets import load_svmlight_file\n",
    "\n",
    "import lightgbm as lgb\n",
    "import numpy as np\n",
    "import pandas as pd\n",
    "import pickle\n",
    "import time\n",
    "import csv\n",
    "import re\n",
    "import os\n",
    "\n",
    "from sklearn.model_selection import KFold\n",
    "from itertools import chain\n",
    "from glob import glob\n",
    "\n",
    "\n",
    "%matplotlib inline"
   ]
  },
  {
   "cell_type": "code",
   "execution_count": null,
   "metadata": {},
   "outputs": [],
   "source": []
  },
  {
   "cell_type": "code",
   "execution_count": null,
   "metadata": {},
   "outputs": [],
   "source": []
  },
  {
   "cell_type": "code",
   "execution_count": 2,
   "metadata": {},
   "outputs": [],
   "source": [
    "def read_data():\n",
    "    columns = ['context_id','context_2','context_1','context_0','reply_id','reply','label','confidence']\n",
    "\n",
    "    test_df = pd.read_csv(\"./data/final.tsv\", sep=\"\\t\", header=None, quoting=csv.QUOTE_NONE)\n",
    "    train_df = pd.read_csv(\"./data/train.tsv\", sep=\"\\t\", header=None, quoting=csv.QUOTE_NONE)\n",
    "\n",
    "    train_df = train_df.fillna(\"\")\n",
    "    test_df = test_df.fillna(\"\")\n",
    "\n",
    "    test_df.columns = columns[:-2]\n",
    "    train_df.columns = columns\n",
    "    \n",
    "    return train_df, test_df\n",
    "\n",
    "train_df, test_df = read_data()\n",
    "\n",
    "nl = []\n",
    "for l in train_df['label'].tolist():\n",
    "    if l == 'good':\n",
    "        nl.append(1)\n",
    "    elif l == 'neutral':\n",
    "        nl.append(0.5)\n",
    "    elif l == 'bad':\n",
    "        nl.append(0)\n",
    "        \n",
    "y_train = np.array(nl)\n",
    "\n",
    "train_weights = np.array(train_df['confidence'])"
   ]
  },
  {
   "cell_type": "code",
   "execution_count": null,
   "metadata": {},
   "outputs": [],
   "source": []
  },
  {
   "cell_type": "code",
   "execution_count": null,
   "metadata": {},
   "outputs": [],
   "source": []
  },
  {
   "cell_type": "code",
   "execution_count": 3,
   "metadata": {},
   "outputs": [],
   "source": [
    "def load_internal_features(dpath):\n",
    "    preds = [(f, pickle.load(open(f, \"rb\"))) for f in glob(dpath)]\n",
    "    feats = []\n",
    "    for p,n in zip(preds, glob(dpath)):\n",
    "        if os.path.basename(n) in blacklist:\n",
    "            print(\"skipping {}\".format(n))\n",
    "            continue\n",
    "        print(\"loading {}\".format(n))\n",
    "        \n",
    "        feats.append(make_oof_features(p))\n",
    "    return feats\n",
    "\n",
    "def load_external_features(dpath):\n",
    "    feats = []\n",
    "    for f in glob(dpath):\n",
    "        if os.path.basename(f) in blacklist:\n",
    "            print(\"skipping {}\".format(f))\n",
    "            continue\n",
    "        print(\"loading {}\".format(f))\n",
    "        feature = pickle.load(open(f,\"rb\"))\n",
    "        ftr_name = [\"{}_{}\".format(f.split(\"/\")[-1], i) for i in range(feature[0].shape[1])]\n",
    "        feature.append(ftr_name)\n",
    "        feats.append(feature)\n",
    "    return feats\n",
    "\n",
    "def make_oof_features(ppack):\n",
    "\n",
    "    pname, ppack = ppack\n",
    "    pname = pname.split('/')[-1]\n",
    "    \n",
    "    pdict = {}\n",
    "    for fold in ppack[1]:\n",
    "        for prdrow, idrow in zip(*fold):\n",
    "            pdict[idrow] = prdrow\n",
    "    \n",
    "    pred_mtx = np.array([pdict[rid] for rid in range(len(pdict))])\n",
    "    ts_pred_mtx = np.mean(ppack[2], axis=0)\n",
    "    ftr_names = [\"{}_{}\".format(pname, i) for i in range(pred_mtx.shape[1])]\n",
    "            \n",
    "    return pred_mtx, ts_pred_mtx, ftr_names\n",
    "\n",
    "def build_submission(predictions, sub_name):\n",
    "\n",
    "    prr = predictions\n",
    "    \n",
    "    last = None\n",
    "    bufs = []\n",
    "    buf = []\n",
    "    for ii, im_id in enumerate(test_df['context_id']):\n",
    "        if im_id!=last and buf:\n",
    "            bufs.append(buf)\n",
    "            buf = []\n",
    "        buf.append(ii)\n",
    "        last = im_id\n",
    "    bufs.append(buf)\n",
    "\n",
    "    predicted_ranks = []\n",
    "    for buf in bufs:\n",
    "        pred_batch = prr[np.array(buf)]\n",
    "        predicted_ranks += list(np.argsort(pred_batch)[::-1])\n",
    "\n",
    "    test_df['reply_id'] = predicted_ranks\n",
    "    test_df[['context_id', 'reply_id']].to_csv(os.path.join(\"./submissions/\", sub_name), \n",
    "                                               index=False, header=None, sep='\\t')\n",
    "\n",
    "def getbasenames(fnames):\n",
    "    return list(map(os.path.basename, fnames))"
   ]
  },
  {
   "cell_type": "code",
   "execution_count": 92,
   "metadata": {},
   "outputs": [],
   "source": []
  },
  {
   "cell_type": "code",
   "execution_count": 4,
   "metadata": {},
   "outputs": [],
   "source": []
  },
  {
   "cell_type": "code",
   "execution_count": null,
   "metadata": {},
   "outputs": [],
   "source": []
  },
  {
   "cell_type": "code",
   "execution_count": 4,
   "metadata": {},
   "outputs": [
    {
     "name": "stdout",
     "output_type": "stream",
     "text": [
      "loading ./features/supervised/rus_fasttext.pkl\n",
      "loading ./features/unsupervised/tfv_1.pkl\n",
      "loading ./features/unsupervised/wms_stops.pkl\n",
      "loading ./features/unsupervised/wmd_fasttext.pkl\n",
      "loading ./features/unsupervised/tfv_2.pkl\n",
      "loading ./features/unsupervised/markdown.pkl\n",
      "loading ./features/unsupervised/avw_my_ppc.pkl\n",
      "loading ./features/unsupervised/tfv_0.pkl\n",
      "loading ./features/unsupervised/wms_nostops.pkl\n",
      "loading ./features/unsupervised/wmd_my_ppc_lemma.pkl\n",
      "loading ./features/unsupervised/lengths.pkl\n",
      "loading ./features/unsupervised/wmd_my_ppc.pkl\n",
      "loading ./features/unsupervised/wmd_araneum.pkl\n",
      "loading ./features/unsupervised/avw_my_ppc_lemma.pkl\n",
      "loading ./features/unsupervised/avw_fasttext.pkl\n",
      "loading ./features/unsupervised/fuzz.pkl\n",
      "loading ./features/unsupervised/rogue.pkl\n",
      "loading ./features/unsupervised/avw_araneum.pkl\n",
      "Loaded 70 features\n"
     ]
    }
   ],
   "source": [
    "blacklist = []\n",
    "\n",
    "intf = load_internal_features(\"./features/supervised/*\")\n",
    "extf = load_external_features(\"./features/unsupervised/*\")\n",
    "\n",
    "allft = intf+extf\n",
    "\n",
    "tr_ftr = np.hstack([i[0] for i in allft])\n",
    "ts_ftr = np.hstack([i[1] for i in allft])\n",
    "\n",
    "feature_names = list(chain.from_iterable([i[2] for i in allft]))\n",
    "\n",
    "print(\"Loaded {} features\".format(tr_ftr.shape[1]))"
   ]
  },
  {
   "cell_type": "code",
   "execution_count": 61,
   "metadata": {},
   "outputs": [],
   "source": []
  },
  {
   "cell_type": "code",
   "execution_count": null,
   "metadata": {
    "scrolled": false
   },
   "outputs": [],
   "source": []
  },
  {
   "cell_type": "code",
   "execution_count": 7,
   "metadata": {},
   "outputs": [
    {
     "name": "stdout",
     "output_type": "stream",
     "text": [
      "Round 1 score: 0.17734843036264003\n",
      "Round 2 score: 0.1790937925131869\n",
      "Round 3 score: 0.1776715284545205\n",
      "Round 4 score: 0.1764275906955965\n",
      "Round 5 score: 0.17814848461704072\n",
      "Round 6 score: 0.17683824231074818\n",
      "Round 7 score: 0.17740902674660802\n",
      "Round 8 score: 0.17741741124192503\n",
      "0.17754431336778323\n"
     ]
    }
   ],
   "source": [
    "alfpreds = []\n",
    "alscores = []\n",
    "\n",
    "jobs = 8\n",
    "\n",
    "for i in range(10):\n",
    "\n",
    "    folder = KFold(n_splits=8, shuffle=True, random_state=34+i)\n",
    "\n",
    "    fpreds = []\n",
    "    scores = []\n",
    "\n",
    "    for rnd, (train_ids, val_ids) in enumerate(folder.split(np.array(list(range(len(tr_ftr)))))):\n",
    "        gbm = lgb.LGBMRegressor(max_depth=6, min_split_gain=0.15, colsample_bytree=0.8, n_jobs=jobs, num_leaves=64)\n",
    "        gbm.fit(tr_ftr[train_ids], y_train[train_ids], eval_set=[(tr_ftr[val_ids], y_train[val_ids])],\n",
    "            early_stopping_rounds=5, verbose=False, feature_name=feature_names, \n",
    "                sample_weight=train_weights[train_ids], eval_sample_weight=[train_weights[val_ids]])\n",
    "\n",
    "        gbm = lgb.LGBMRegressor(max_depth=6, min_split_gain=0.15, colsample_bytree=0.8, num_leaves=64,\n",
    "                                n_estimators=gbm.best_iteration_, n_jobs=jobs)\n",
    "        gbm.fit(tr_ftr[train_ids], y_train[train_ids], eval_set=[(tr_ftr[val_ids], y_train[val_ids])],\n",
    "            early_stopping_rounds=5, verbose=False, feature_name=feature_names,\n",
    "               sample_weight=train_weights[train_ids], eval_sample_weight=[train_weights[val_ids]])\n",
    "\n",
    "        fpreds.append(gbm.predict(ts_ftr))\n",
    "        scores.append(gbm.best_score_['valid_0']['l2'])\n",
    "        print(\"Round {} score: {}\".format(rnd+1, scores[-1]))\n",
    "\n",
    "    print(np.mean(scores))\n",
    "    alscores.append(np.mean(scores))\n",
    "    alfpreds.append(np.mean(fpreds, axis=0))"
   ]
  },
  {
   "cell_type": "code",
   "execution_count": null,
   "metadata": {},
   "outputs": [],
   "source": []
  },
  {
   "cell_type": "code",
   "execution_count": null,
   "metadata": {},
   "outputs": [],
   "source": []
  },
  {
   "cell_type": "code",
   "execution_count": 9,
   "metadata": {},
   "outputs": [],
   "source": [
    "build_submission(np.mean(alfpreds, axis=0), \"submission.csv\")"
   ]
  },
  {
   "cell_type": "code",
   "execution_count": null,
   "metadata": {},
   "outputs": [],
   "source": []
  },
  {
   "cell_type": "code",
   "execution_count": null,
   "metadata": {},
   "outputs": [],
   "source": []
  },
  {
   "cell_type": "code",
   "execution_count": 8,
   "metadata": {
    "scrolled": false
   },
   "outputs": [
    {
     "data": {
      "text/plain": [
       "<matplotlib.axes._subplots.AxesSubplot at 0x7fbea564b748>"
      ]
     },
     "execution_count": 8,
     "metadata": {},
     "output_type": "execute_result"
    },
    {
     "data": {
      "image/png": "[encoded data removed]",
      "text/plain": [
       "<Figure size 720x864 with 1 Axes>"
      ]
     },
     "metadata": {},
     "output_type": "display_data"
    }
   ],
   "source": [
    "lgb.plot_importance(gbm, figsize=(10,12), max_num_features=24)"
   ]
  },
  {
   "cell_type": "code",
   "execution_count": null,
   "metadata": {},
   "outputs": [],
   "source": []
  }
 ],
 "metadata": {
  "kernelspec": {
   "display_name": "Python 3",
   "language": "python",
   "name": "python3"
  },
  "language_info": {
   "codemirror_mode": {
    "name": "ipython",
    "version": 3
   },
   "file_extension": ".py",
   "mimetype": "text/x-python",
   "name": "python",
   "nbconvert_exporter": "python",
   "pygments_lexer": "ipython3",
   "version": "3.6.3"
  }
 },
 "nbformat": 4,
 "nbformat_minor": 2
}
